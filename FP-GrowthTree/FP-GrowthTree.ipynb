{
 "cells": [
  {
   "cell_type": "code",
   "execution_count": 4588,
   "metadata": {},
   "outputs": [],
   "source": [
    "import time\n",
    "start_time = time.time()\n",
    "import os\n",
    "import psutil\n",
    "from collections import OrderedDict\n",
    "import operator\n",
    "def readData():\n",
    "    cnt = 0\n",
    "    fp = open(\"data2.csv\",\"r\")   \n",
    "    #fp = open(\"test.csv\",\"r\")\n",
    "    dict_data = OrderedDict() # defaultdict(dict) \n",
    "    dict_count = {}\n",
    "    for line in fp:\n",
    "        if cnt == 0:\n",
    "            val = line.strip('\\n').split(\";\")\n",
    "            val1 = val\n",
    "        if cnt >= 1:\n",
    "            val = line.strip('\\n').split(\";\")\n",
    "            dict_data[cnt-1] = val   #{val[i]: 1}\n",
    "            for i in val:\n",
    "                if i not in dict_count.keys():\n",
    "                    dict_count[i] = 1\n",
    "                else:\n",
    "                    x = dict_count[i]\n",
    "                    dict_count[i] = x + 1\n",
    "        cnt += 1\n",
    "    fp.close()\n",
    "    tup_count = sorted(dict_count.items(), key=operator.itemgetter(1), reverse = True)\n",
    "    dict_count = dict(tup_count)\n",
    "    return dict_data,dict_count;"
   ]
  },
  {
   "cell_type": "code",
   "execution_count": 4589,
   "metadata": {},
   "outputs": [],
   "source": [
    " def create_header_table(data, d_count):\n",
    "    header = d_count\n",
    "    for k in header:\n",
    "        header[k] = [header[k], None]\n",
    "    return header\n",
    "        "
   ]
  },
  {
   "cell_type": "code",
   "execution_count": 4590,
   "metadata": {},
   "outputs": [],
   "source": [
    "def sort_data(dataset,header):\n",
    "    sort_dict = {}\n",
    "    frequent_itemset = set(header.keys())\n",
    "    for itemset,count in dataset.items():\n",
    "        frequent_transaction = {}\n",
    "        for item in count:\n",
    "            if item in frequent_itemset:\n",
    "                frequent_transaction[item] = header[item][0]\n",
    "            ordered_itemset = [v[0] for v in sorted(frequent_transaction.items(), key=lambda p: p[1], reverse=True)]\n",
    "        sort_dict[itemset] = ordered_itemset\n",
    "    return sort_dict"
   ]
  },
  {
   "cell_type": "code",
   "execution_count": 4591,
   "metadata": {},
   "outputs": [],
   "source": [
    "class Tree_Node:\n",
    "    def __init__(self,Nodename,parentnode,count):\n",
    "        self.name = Nodename\n",
    "        self.count = count\n",
    "        self.parent = parentnode\n",
    "        self.children = {}\n",
    "        self.nodelink = None"
   ]
  },
  {
   "cell_type": "code",
   "execution_count": 4592,
   "metadata": {},
   "outputs": [],
   "source": [
    "def create_tree(data,header,root):\n",
    "    for val in data:\n",
    "        if val in root.children:\n",
    "            if root.name != 'root':\n",
    "                root.children[val].count = root.children[val].count + 1#root.count = 0\n",
    "            else:\n",
    "                root.children[val].count = root.children[val].count + 1#root.count = root.count + 1\n",
    "            root = root.children[val]\n",
    "        else:\n",
    "            root.children[val] = Tree_Node(val,root,1)\n",
    "            root = root.children[val]\n",
    "            if(header[val][1] == None):\n",
    "                header[val][1] = root\n",
    "            else:\n",
    "                root_node = header[val][1]\n",
    "                while(root_node.nodelink != None):\n",
    "                    root_node = root_node.nodelink\n",
    "                root_node.nodelink = root\n",
    "            "
   ]
  },
  {
   "cell_type": "code",
   "execution_count": 4593,
   "metadata": {},
   "outputs": [],
   "source": [
    "def printTree(theRoot):\n",
    "    if(len(theRoot.children)==0):\n",
    "        return\n",
    "    for child in theRoot.children:\n",
    "        printTree(theRoot.children[child])\n",
    "        print(\"node is \", theRoot.children[child].name, \"and count is \", theRoot.children[child].count)  \n",
    "    "
   ]
  },
  {
   "cell_type": "code",
   "execution_count": 4594,
   "metadata": {},
   "outputs": [],
   "source": [
    "def recur_link(node):\n",
    "    print(node.name)\n",
    "    if(node.nodelink==None):\n",
    "        return\n",
    "    recur_link(node.nodelink)\n",
    "    \n",
    "    "
   ]
  },
  {
   "cell_type": "code",
   "execution_count": 4595,
   "metadata": {},
   "outputs": [],
   "source": [
    "def recur_getParentList(theNode):\n",
    "    parentList=[]\n",
    "    if(theNode.parent.name==\"root\"):\n",
    "        parentList.append(theNode)\n",
    "        return parentList\n",
    "    parentList = parentList + recur_getParentList(theNode.parent)\n",
    "    parentList.append(theNode)\n",
    "    return parentList"
   ]
  },
  {
   "cell_type": "code",
   "execution_count": 4596,
   "metadata": {},
   "outputs": [],
   "source": [
    "def create_sub_header(parentLists, theNodeList):\n",
    "    index=0\n",
    "    header={}\n",
    "    for someList in parentLists:\n",
    "        for someNode in someList:\n",
    "            if someNode.name != \"root\":\n",
    "                if someNode.name not in header.keys():\n",
    "                    header[someNode.name]=theNodeList[index].count\n",
    "                else:\n",
    "                    header[someNode.name]=header[someNode.name]+theNodeList[index].count\n",
    "        index=index+1\n",
    "    for k in header:\n",
    "        header[k] = [header[k], None]\n",
    "    return header       "
   ]
  },
  {
   "cell_type": "code",
   "execution_count": 4597,
   "metadata": {},
   "outputs": [],
   "source": [
    "def create_subtree(header, theRoot, parentList, theCount):\n",
    "    for someNode in parentList:\n",
    "        if someNode.name in theRoot.children:\n",
    "            theRoot.children[someNode.name].count = theRoot.children[someNode.name].count + theCount\n",
    "        else:\n",
    "            theRoot.children[someNode.name] = Tree_Node(someNode.name, theRoot, theCount)\n",
    "            if(header[someNode.name][1] == None):\n",
    "                header[someNode.name][1] = theRoot.children[someNode.name]#someNode\n",
    "            else:\n",
    "                root_node = header[someNode.name][1]\n",
    "                while(root_node.nodelink != None):\n",
    "                    root_node = root_node.nodelink\n",
    "                root_node.nodelink = theRoot.children[someNode.name]\n",
    "        theRoot = theRoot.children[someNode.name]\n",
    "        "
   ]
  },
  {
   "cell_type": "code",
   "execution_count": 4598,
   "metadata": {},
   "outputs": [],
   "source": [
    "def recur_moreThan1path(theRoot):#root can have many branches but if there is only 1 path in each branch, return false\n",
    "    temp = False\n",
    "    if len(theRoot.children)==0:\n",
    "        return False\n",
    "    for child in theRoot.children:\n",
    "        if len(theRoot.children)>1:\n",
    "            return True \n",
    "        else:\n",
    "            temp = recur_moreThan1path(theRoot.children[child]) \n",
    "        if temp == True:\n",
    "            return True\n",
    "    return temp "
   ]
  },
  {
   "cell_type": "code",
   "execution_count": 4599,
   "metadata": {},
   "outputs": [],
   "source": [
    "def gen_base_fp(theRoot, theHeader):\n",
    "    patternLists=[]\n",
    "    for child in theRoot.children:\n",
    "        patternLists = patternLists + all_subsets(theRoot.children[child], [])\n",
    "    for item in theHeader:\n",
    "        found = False\n",
    "        for someList in patternLists:\n",
    "            if len(someList) == 2:\n",
    "                if someList[-1]==item:\n",
    "                    someList[0]=theHeader[item][0]\n",
    "                    found = True\n",
    "                    break\n",
    "        if found == False:\n",
    "            missingList = [theHeader[item][0], item]\n",
    "            if missingList[0] >= 2:                                      #pruning\n",
    "                patternLists.append(missingList)\n",
    "    return patternLists"
   ]
  },
  {
   "cell_type": "code",
   "execution_count": 4600,
   "metadata": {},
   "outputs": [],
   "source": [
    "def copyList(theList):\n",
    "    copy = []\n",
    "    index=0\n",
    "    while index < len(theList):\n",
    "        copy.append(theList[index])\n",
    "        index=index+1\n",
    "    return copy"
   ]
  },
  {
   "cell_type": "code",
   "execution_count": 4601,
   "metadata": {},
   "outputs": [],
   "source": [
    "def all_subsets(theRoot, current_subsets):\n",
    "    subsets = current_subsets\n",
    "    next_set = []\n",
    "    if theRoot.name!=\"root\":\n",
    "        if len(subsets)!=0:\n",
    "            next_set=copyList(subsets[-1])\n",
    "        else:\n",
    "            next_set = [0]\n",
    "        next_set.append(theRoot.name)\n",
    "        next_set[0]=theRoot.count\n",
    "        subsets.append(next_set)\n",
    "    if(len(theRoot.children)==0):\n",
    "        return subsets\n",
    "    for child in theRoot.children:\n",
    "        return all_subsets(theRoot.children[child], subsets)\n",
    "        "
   ]
  },
  {
   "cell_type": "code",
   "execution_count": 4602,
   "metadata": {},
   "outputs": [],
   "source": [
    "def pruneTree(theRoot):\n",
    "    if theRoot.name!='root':\n",
    "        if theRoot.count < 2:\n",
    "            theRoot.parent.children.pop(theRoot.name)\n",
    "            return\n",
    "    if(len(theRoot.children)==0):\n",
    "        return\n",
    "    for child in list(theRoot.children):\n",
    "        pruneTree(theRoot.children[child])"
   ]
  },
  {
   "cell_type": "code",
   "execution_count": 4603,
   "metadata": {},
   "outputs": [],
   "source": [
    "def generated_patterns_recur(theNode, skip1):\n",
    "    #print(\"* \",theNode.name)\n",
    "    theNodeList=[]\n",
    "    theHeader={}\n",
    "    while(theNode.nodelink!=None):\n",
    "        theNodeList.append(theNode)\n",
    "        theNode=theNode.nodelink\n",
    "    theNodeList.append(theNode)\n",
    "    #print(\"theNodeList is \", theNodeList)             #list of nodes from header slot complete\n",
    "    parentLists=[]\n",
    "    parentList=[]\n",
    "    for node in theNodeList:\n",
    "        if(node.parent.name!=\"root\"):\n",
    "            parentList=recur_getParentList(node.parent)\n",
    "            parentLists.append(parentList)\n",
    "    #print(parentLists)             #lists of parents for each node from header slot complete\n",
    "    theHeader=create_sub_header(parentLists, theNodeList)\n",
    "    #print(theHeader)               #new header from parent paths has been made (still missing links)\n",
    "    newRoot = Tree_Node('root', None, theNode.count)\n",
    "    index1=0\n",
    "    for someList in parentLists:\n",
    "        create_subtree(theHeader, newRoot, someList, theNodeList[index1].count)#theNode.count\n",
    "        index1=index1+1\n",
    "    pruneTree(newRoot)\n",
    "    #printTree(newRoot)                             #subTree created\n",
    "    multiplePaths = False\n",
    "    for child in newRoot.children:\n",
    "        multiplePaths = recur_moreThan1path(newRoot.children[child])\n",
    "        if multiplePaths == True:\n",
    "            break\n",
    "    #print(\"multpaths is \", multiplePaths)         #determined if there are multiple paths\n",
    "    fpList=[]\n",
    "    if skip1 == False:\n",
    "        for someNode in theNodeList:\n",
    "            if someNode.parent.name == 'root':\n",
    "                if someNode.count >= 2:\n",
    "                    fpList.append([someNode.count])#nodes whose only parents were the root were not used\n",
    "                                                   #for subtrees. Now they get appended to output\n",
    "    if multiplePaths == False:\n",
    "        fpList = fpList + gen_base_fp(newRoot, theHeader)\n",
    "    else:\n",
    "        for elem in theHeader:\n",
    "            fpList = fpList + generated_patterns_recur(theHeader[elem][1], False)\n",
    "    for someList in fpList:\n",
    "        someList.append(theNode.name)\n",
    "    return fpList  "
   ]
  },
  {
   "cell_type": "code",
   "execution_count": 4604,
   "metadata": {},
   "outputs": [
    {
     "name": "stdout",
     "output_type": "stream",
     "text": [
      "----\n",
      "----\n",
      "Patterns:  []\n",
      "Patterns:  [[4, 'I2', 'I1']]\n",
      "Patterns:  [[5, 'I2', 'I4'], [4, 'I1', 'I4']]\n",
      "Patterns:  [[5, 'I2', 'I3'], [2, 'I2', 'I1', 'I3'], [4, 'I1', 'I3']]\n",
      "Patterns:  [[2, 'I2', 'I5'], [2, 'I2', 'I1', 'I5'], [2, 'I1', 'I5']]\n"
     ]
    }
   ],
   "source": [
    "printCount=0\n",
    "data,d_count = readData()\n",
    "header_table = create_header_table(data, d_count)\n",
    "sort_dict = sort_data(data,header_table)\n",
    "root = Tree_Node('root',None,0)\n",
    "print(\"----\")\n",
    "for val in sort_dict.values():\n",
    "    create_tree(val,header_table,root)\n",
    "print(\"----\")\n",
    "for item in header_table:\n",
    "    thePatterns = generated_patterns_recur(header_table[item][1], True)\n",
    "    print(\"Patterns: \", thePatterns)\n",
    "    printCount = printCount + len(thePatterns)\n",
    "#print(\"Execution Time(Seconds)\",time.time() - start_time)\n",
    "#print(\"# of patterns printed \", printCount)\n",
    "process = psutil.Process(os.getpid())\n",
    "#print(\"Memory in MB\",process.memory_info().rss/1000000) \n",
    "\n",
    "#there are 3 places pruning takes place\n"
   ]
  }
 ],
 "metadata": {
  "kernelspec": {
   "display_name": "Python 3",
   "language": "python",
   "name": "python3"
  },
  "language_info": {
   "codemirror_mode": {
    "name": "ipython",
    "version": 3
   },
   "file_extension": ".py",
   "mimetype": "text/x-python",
   "name": "python",
   "nbconvert_exporter": "python",
   "pygments_lexer": "ipython3",
   "version": "3.7.4"
  }
 },
 "nbformat": 4,
 "nbformat_minor": 2
}
